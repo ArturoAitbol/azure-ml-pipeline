{
  "cells": [
    {
      "cell_type": "code",
      "source": [
        "from azure.ai.ml import load_component\n",
        "from azure.ai.ml.dsl import pipeline\n",
        "from azure.ai.ml import MLClient, Input\n",
        "from azure.identity import DefaultAzureCredential, EnvironmentCredential\n",
        "from azure.ai.ml.entities import AmlCompute\n",
        "\n",
        "import pandas as pd"
      ],
      "outputs": [],
      "execution_count": 4,
      "metadata": {
        "gather": {
          "logged": 1699476875403
        }
      },
      "id": "ccf0c4fd"
    },
    {
      "cell_type": "markdown",
      "source": [
        "Definimos el cluster donde correrá el pipeline"
      ],
      "metadata": {
        "nteract": {
          "transient": {
            "deleting": false
          }
        }
      },
      "id": "d5f355e8-0672-48b8-b0c8-e48d70581190"
    },
    {
      "cell_type": "code",
      "source": [
        "def get_comput_target(ml_client, name=\"new-cpu-cluster\", family='Standard_E4s_v3'):\n",
        "    cpu_compute_target = name\n",
        "    \n",
        "    try:\n",
        "        # let's see if the compute target already exists\n",
        "        cpu_cluster = ml_client.compute.get(cpu_compute_target)\n",
        "    except Exception:\n",
        "        cpu_cluster = AmlCompute(\n",
        "            name=cpu_compute_target,\n",
        "            type=\"amlcompute\",\n",
        "            size=family,\n",
        "            min_instances=0,\n",
        "            max_instances=4,\n",
        "            idle_time_before_scale_down=180,\n",
        "            tier=\"Dedicated\",\n",
        "        )\n",
        "    \n",
        "        cpu_cluster = ml_client.compute.begin_create_or_update(cpu_cluster).result()"
      ],
      "outputs": [],
      "execution_count": 12,
      "metadata": {
        "jupyter": {
          "source_hidden": false,
          "outputs_hidden": false
        },
        "nteract": {
          "transient": {
            "deleting": false
          }
        },
        "gather": {
          "logged": 1699478312658
        }
      },
      "id": "3099317c-bdb8-483c-b1b2-35dc495db250"
    },
    {
      "cell_type": "code",
      "source": [
        "credential = DefaultAzureCredential()\n",
        "ml_client = MLClient.from_config(credential=credential)"
      ],
      "outputs": [
        {
          "output_type": "stream",
          "name": "stderr",
          "text": "Found the config file in: /config.json\n"
        }
      ],
      "execution_count": 24,
      "metadata": {
        "jupyter": {
          "source_hidden": false,
          "outputs_hidden": false
        },
        "nteract": {
          "transient": {
            "deleting": false
          }
        },
        "gather": {
          "logged": 1699479148619
        }
      },
      "id": "ccf23bd7-5618-4e4c-9777-14b49398798b"
    },
    {
      "cell_type": "code",
      "source": [
        "compute_target = get_comput_target(ml_client)"
      ],
      "outputs": [],
      "execution_count": 25,
      "metadata": {
        "jupyter": {
          "source_hidden": false,
          "outputs_hidden": false
        },
        "nteract": {
          "transient": {
            "deleting": false
          }
        },
        "gather": {
          "logged": 1699479151929
        }
      },
      "id": "a896a571-1910-4c90-bd97-d8c4f8e7b1fd"
    },
    {
      "cell_type": "code",
      "source": [
        "preprocess_component = load_component(source=\"./preprocess-ds-component/preprocess.yml\")\n",
        "split_component = load_component(source=\"./split-component/split.yml\")\n",
        "train_logistic_component = load_component(source=\"./train-logistic-component/train_logistic.yml\")\n",
        "eval_component = load_component(source=\"./eval-model-component/eval.yml\")"
      ],
      "outputs": [],
      "execution_count": 26,
      "metadata": {
        "jupyter": {
          "source_hidden": false,
          "outputs_hidden": false
        },
        "nteract": {
          "transient": {
            "deleting": false
          }
        },
        "gather": {
          "logged": 1699479152815
        }
      },
      "id": "087d34e4-00bc-44af-a77c-0fb55e4fd5ef"
    },
    {
      "cell_type": "code",
      "source": [
        "@pipeline(\n",
        "    default_compute='new-cpu-cluster',\n",
        ")\n",
        "def water_potability_pipeline(pipeline_input_data):\n",
        "    preprocess_node = preprocess_component(\n",
        "        dataset=pipeline_input_data,\n",
        "        plot_style='dark'\n",
        "    )\n",
        "\n",
        "    split_node = split_component(\n",
        "        dataset=preprocess_node.outputs.dataset_cleaned,\n",
        "        test_size=0.2\n",
        "    )\n",
        "\n",
        "    train_node = train_logistic_component(\n",
        "        X_train=split_node.outputs.X_train,\n",
        "        y_train=split_node.outputs.y_train\n",
        "    )\n",
        "    \n",
        "    eval_node = eval_component(\n",
        "        model=train_node.outputs.logistic_model,\n",
        "        X_test=split_node.outputs.X_test,\n",
        "        y_test=split_node.outputs.y_test\n",
        "    )\n",
        "\n",
        "    # eval_node = eval_component(\n",
        "    #     scoring_result=score_node.outputs.score_output\n",
        "    # )\n",
        "\n",
        "    return {\n",
        "        \"pair_plot_output\": preprocess_node.outputs.pair_plot,\n",
        "        \"pair_plot_output\": train_node.outputs.logistic_model,\n",
        "        \"report\": eval_node.outputs.report\n",
        "    }\n",
        "\n",
        "\n",
        "# create a pipeline\n",
        "water_potability_ds =  Input(\n",
        "            type=\"uri_file\",\n",
        "            path=\"azureml://subscriptions/d4e39a00-586b-4eea-9d7a-5c200a16ba64/resourcegroups/pipeline/workspaces/project-2-pipeline/datastores/workspaceblobstore/paths/UI/2023-11-08_204801_UTC/water_potability_ds.csv\",\n",
        "        )\n",
        "\n",
        "pipeline_job = water_potability_pipeline(pipeline_input_data=water_potability_ds)\n"
      ],
      "outputs": [],
      "execution_count": 27,
      "metadata": {
        "jupyter": {
          "source_hidden": false,
          "outputs_hidden": false
        },
        "nteract": {
          "transient": {
            "deleting": false
          }
        },
        "gather": {
          "logged": 1699479154545
        }
      },
      "id": "14ccde6e-7f7a-44cc-b948-ea910c41dd26"
    },
    {
      "cell_type": "code",
      "source": [
        "pipeline_job = ml_client.jobs.create_or_update(\n",
        "    pipeline_job, experiment_name=\"pipeline_water_pota\"\n",
        ")\n",
        "pipeline_job"
      ],
      "outputs": [
        {
          "output_type": "execute_result",
          "execution_count": 28,
          "data": {
            "text/plain": "PipelineJob({'inputs': {'pipeline_input_data': <azure.ai.ml.entities._job.pipeline._io.base.PipelineInput object at 0x7fba4e5ccb50>}, 'outputs': {'pair_plot_output': <azure.ai.ml.entities._job.pipeline._io.base.PipelineOutput object at 0x7fba4e5cd270>}, 'jobs': {}, 'component': PipelineComponent({'intellectual_property': None, 'auto_increment_version': False, 'source': 'REMOTE.WORKSPACE.JOB', 'is_anonymous': True, 'auto_delete_setting': None, 'name': 'azureml_anonymous', 'description': None, 'tags': {}, 'properties': {}, 'print_as_yaml': True, 'id': None, 'Resource__source_path': None, 'base_path': '/mnt/batch/tasks/shared/LS_root/mounts/clusters/notebook-instance/code/Users/art_ag', 'creation_context': None, 'serialize': <msrest.serialization.Serializer object at 0x7fba4e5cd1e0>, 'version': '1', 'latest_version': None, 'schema': None, 'type': 'pipeline', 'display_name': 'water_potability_pipeline', 'is_deterministic': None, 'inputs': {'pipeline_input_data': {}}, 'outputs': {'pair_plot_output': {}}, 'yaml_str': None, 'other_parameter': {}, 'jobs': {'preprocess_node': Command({'parameters': {}, 'init': False, 'name': 'preprocess_node', 'type': 'command', 'status': None, 'log_files': None, 'description': None, 'tags': {}, 'properties': {}, 'print_as_yaml': True, 'id': None, 'Resource__source_path': None, 'base_path': '/mnt/batch/tasks/shared/LS_root/mounts/clusters/notebook-instance/code/Users/art_ag', 'creation_context': None, 'serialize': <msrest.serialization.Serializer object at 0x7fba4e5cd210>, 'allowed_keys': {}, 'key_restriction': False, 'logger': <Logger attr_dict (WARNING)>, 'display_name': None, 'experiment_name': None, 'compute': None, 'services': None, 'comment': None, 'job_inputs': {'plot_style': 'dark', 'dataset': '${{parent.inputs.pipeline_input_data}}'}, 'job_outputs': {'pair_plot': '${{parent.outputs.pair_plot_output}}'}, 'inputs': {'plot_style': <azure.ai.ml.entities._job.pipeline._io.base.NodeInput object at 0x7fba4e5cf3a0>, 'dataset': <azure.ai.ml.entities._job.pipeline._io.base.NodeInput object at 0x7fba4e5cc550>}, 'outputs': {'pair_plot': <azure.ai.ml.entities._job.pipeline._io.base.NodeOutput object at 0x7fba6773be50>}, 'component': 'azureml_anonymous:02f5f3bf-10c9-4589-9cb2-18a8f1d45502', 'referenced_control_flow_node_instance_id': None, 'kwargs': {'services': None}, 'instance_id': '11f84fd2-11a8-4aa9-b2f9-dfa183af9627', 'source': 'REMOTE.WORKSPACE.COMPONENT', 'validate_required_input_not_provided': True, 'limits': None, 'identity': None, 'distribution': None, 'environment_variables': {}, 'environment': None, 'resources': None, 'queue_settings': None, 'swept': False})}, 'job_types': {'command': 1}, 'job_sources': {'REMOTE.WORKSPACE.COMPONENT': 1}, 'source_job_id': None}), 'type': 'pipeline', 'status': 'Preparing', 'log_files': None, 'name': 'polite_deer_9l15svhmxq', 'description': None, 'tags': {}, 'properties': {'azureml.DevPlatv2': 'true', 'azureml.DatasetAccessMode': 'Asset', 'azureml.runsource': 'azureml.PipelineRun', 'runSource': 'MFE', 'runType': 'HTTP', 'azureml.parameters': '{}', 'azureml.continue_on_step_failure': 'True', 'azureml.continue_on_failed_optional_input': 'True', 'azureml.enforceRerun': 'False', 'azureml.defaultComputeName': 'new-cpu-cluster', 'azureml.defaultDataStoreName': 'workspaceblobstore', 'azureml.pipelineComponent': 'pipelinerun'}, 'print_as_yaml': True, 'id': '/subscriptions/d4e39a00-586b-4eea-9d7a-5c200a16ba64/resourceGroups/pipeline/providers/Microsoft.MachineLearningServices/workspaces/project-2-pipeline/jobs/polite_deer_9l15svhmxq', 'Resource__source_path': None, 'base_path': '/mnt/batch/tasks/shared/LS_root/mounts/clusters/notebook-instance/code/Users/art_ag', 'creation_context': <azure.ai.ml.entities._system_data.SystemData object at 0x7fba4e5ccbe0>, 'serialize': <msrest.serialization.Serializer object at 0x7fba4e5cc460>, 'display_name': 'water_potability_pipeline', 'experiment_name': 'pipeline_water_pota', 'compute': None, 'services': {'Tracking': {'endpoint': 'azureml://eastus.api.azureml.ms/mlflow/v1.0/subscriptions/d4e39a00-586b-4eea-9d7a-5c200a16ba64/resourceGroups/pipeline/providers/Microsoft.MachineLearningServices/workspaces/project-2-pipeline?', 'type': 'Tracking'}, 'Studio': {'endpoint': 'https://ml.azure.com/runs/polite_deer_9l15svhmxq?wsid=/subscriptions/d4e39a00-586b-4eea-9d7a-5c200a16ba64/resourcegroups/pipeline/workspaces/project-2-pipeline&tid=acce7fd1-5d4a-48b3-ab29-58f5f65fc259', 'type': 'Studio'}}, 'settings': {}, 'identity': None, 'default_code': None, 'default_environment': None})",
            "text/html": "<table style=\"width:100%\"><tr><th>Experiment</th><th>Name</th><th>Type</th><th>Status</th><th>Details Page</th></tr><tr><td>pipeline_water_pota</td><td>polite_deer_9l15svhmxq</td><td>pipeline</td><td>Preparing</td><td><a href=\"https://ml.azure.com/runs/polite_deer_9l15svhmxq?wsid=/subscriptions/d4e39a00-586b-4eea-9d7a-5c200a16ba64/resourcegroups/pipeline/workspaces/project-2-pipeline&amp;tid=acce7fd1-5d4a-48b3-ab29-58f5f65fc259\" target=\"_blank\" rel=\"noopener\">Link to Azure Machine Learning studio</a></td></tr></table>"
          },
          "metadata": {}
        }
      ],
      "execution_count": 28,
      "metadata": {
        "jupyter": {
          "source_hidden": false,
          "outputs_hidden": false
        },
        "nteract": {
          "transient": {
            "deleting": false
          }
        },
        "gather": {
          "logged": 1699479165705
        }
      },
      "id": "18cee03b-c8c5-45f7-b859-5eceaeb8af25"
    },
    {
      "cell_type": "code",
      "source": [
        "# wait until the job completes\n",
        "ml_client.jobs.stream(pipeline_job.name)\n"
      ],
      "outputs": [
        {
          "output_type": "stream",
          "name": "stdout",
          "text": "RunId: polite_deer_9l15svhmxq\nWeb View: https://ml.azure.com/runs/polite_deer_9l15svhmxq?wsid=/subscriptions/d4e39a00-586b-4eea-9d7a-5c200a16ba64/resourcegroups/pipeline/workspaces/project-2-pipeline\n\nStreaming logs/azureml/executionlogs.txt\n========================================\n\n[2023-11-08 21:32:47Z] Submitting 1 runs, first five are: 57f283db:02af4bed-9aed-4082-a7dc-fe01c20f52e6\n[2023-11-08 21:33:53Z] Execution of experiment failed, update experiment status and cancel running nodes.\n\nExecution Summary\n=================\nRunId: polite_deer_9l15svhmxq\nWeb View: https://ml.azure.com/runs/polite_deer_9l15svhmxq?wsid=/subscriptions/d4e39a00-586b-4eea-9d7a-5c200a16ba64/resourcegroups/pipeline/workspaces/project-2-pipeline\n"
        },
        {
          "output_type": "error",
          "ename": "JobException",
          "evalue": "Exception : \n {\n    \"error\": {\n        \"code\": \"UserError\",\n        \"message\": \"Pipeline has failed child jobs. Failed nodes: /preprocess_node. For more details and logs, please go to the job detail page and check the child jobs.\",\n        \"message_format\": \"Pipeline has failed child jobs. {0}\",\n        \"message_parameters\": {},\n        \"reference_code\": \"PipelineHasStepJobFailed\",\n        \"details\": []\n    },\n    \"environment\": \"eastus\",\n    \"location\": \"eastus\",\n    \"time\": \"2023-11-08T21:33:53.788111Z\",\n    \"component_name\": \"\"\n} ",
          "traceback": [
            "\u001b[0;31m---------------------------------------------------------------------------\u001b[0m",
            "\u001b[0;31mJobException\u001b[0m                              Traceback (most recent call last)",
            "Cell \u001b[0;32mIn[29], line 2\u001b[0m\n\u001b[1;32m      1\u001b[0m \u001b[38;5;66;03m# wait until the job completes\u001b[39;00m\n\u001b[0;32m----> 2\u001b[0m \u001b[43mml_client\u001b[49m\u001b[38;5;241;43m.\u001b[39;49m\u001b[43mjobs\u001b[49m\u001b[38;5;241;43m.\u001b[39;49m\u001b[43mstream\u001b[49m\u001b[43m(\u001b[49m\u001b[43mpipeline_job\u001b[49m\u001b[38;5;241;43m.\u001b[39;49m\u001b[43mname\u001b[49m\u001b[43m)\u001b[49m\n",
            "File \u001b[0;32m/anaconda/envs/azureml_py310_sdkv2/lib/python3.10/site-packages/azure/core/tracing/decorator.py:76\u001b[0m, in \u001b[0;36mdistributed_trace.<locals>.decorator.<locals>.wrapper_use_tracer\u001b[0;34m(*args, **kwargs)\u001b[0m\n\u001b[1;32m     74\u001b[0m span_impl_type \u001b[38;5;241m=\u001b[39m settings\u001b[38;5;241m.\u001b[39mtracing_implementation()\n\u001b[1;32m     75\u001b[0m \u001b[38;5;28;01mif\u001b[39;00m span_impl_type \u001b[38;5;129;01mis\u001b[39;00m \u001b[38;5;28;01mNone\u001b[39;00m:\n\u001b[0;32m---> 76\u001b[0m     \u001b[38;5;28;01mreturn\u001b[39;00m \u001b[43mfunc\u001b[49m\u001b[43m(\u001b[49m\u001b[38;5;241;43m*\u001b[39;49m\u001b[43margs\u001b[49m\u001b[43m,\u001b[49m\u001b[43m \u001b[49m\u001b[38;5;241;43m*\u001b[39;49m\u001b[38;5;241;43m*\u001b[39;49m\u001b[43mkwargs\u001b[49m\u001b[43m)\u001b[49m\n\u001b[1;32m     78\u001b[0m \u001b[38;5;66;03m# Merge span is parameter is set, but only if no explicit parent are passed\u001b[39;00m\n\u001b[1;32m     79\u001b[0m \u001b[38;5;28;01mif\u001b[39;00m merge_span \u001b[38;5;129;01mand\u001b[39;00m \u001b[38;5;129;01mnot\u001b[39;00m passed_in_parent:\n",
            "File \u001b[0;32m/anaconda/envs/azureml_py310_sdkv2/lib/python3.10/site-packages/azure/ai/ml/_telemetry/activity.py:263\u001b[0m, in \u001b[0;36mmonitor_with_activity.<locals>.monitor.<locals>.wrapper\u001b[0;34m(*args, **kwargs)\u001b[0m\n\u001b[1;32m    260\u001b[0m \u001b[38;5;129m@functools\u001b[39m\u001b[38;5;241m.\u001b[39mwraps(f)\n\u001b[1;32m    261\u001b[0m \u001b[38;5;28;01mdef\u001b[39;00m \u001b[38;5;21mwrapper\u001b[39m(\u001b[38;5;241m*\u001b[39margs, \u001b[38;5;241m*\u001b[39m\u001b[38;5;241m*\u001b[39mkwargs):\n\u001b[1;32m    262\u001b[0m     \u001b[38;5;28;01mwith\u001b[39;00m log_activity(logger, activity_name \u001b[38;5;129;01mor\u001b[39;00m f\u001b[38;5;241m.\u001b[39m\u001b[38;5;18m__name__\u001b[39m, activity_type, custom_dimensions):\n\u001b[0;32m--> 263\u001b[0m         \u001b[38;5;28;01mreturn\u001b[39;00m \u001b[43mf\u001b[49m\u001b[43m(\u001b[49m\u001b[38;5;241;43m*\u001b[39;49m\u001b[43margs\u001b[49m\u001b[43m,\u001b[49m\u001b[43m \u001b[49m\u001b[38;5;241;43m*\u001b[39;49m\u001b[38;5;241;43m*\u001b[39;49m\u001b[43mkwargs\u001b[49m\u001b[43m)\u001b[49m\n",
            "File \u001b[0;32m/anaconda/envs/azureml_py310_sdkv2/lib/python3.10/site-packages/azure/ai/ml/operations/_job_operations.py:661\u001b[0m, in \u001b[0;36mJobOperations.stream\u001b[0;34m(self, name)\u001b[0m\n\u001b[1;32m    658\u001b[0m \u001b[38;5;28;01mif\u001b[39;00m _is_pipeline_child_job(job_object):\n\u001b[1;32m    659\u001b[0m     \u001b[38;5;28;01mraise\u001b[39;00m PipelineChildJobError(job_id\u001b[38;5;241m=\u001b[39mjob_object\u001b[38;5;241m.\u001b[39mid)\n\u001b[0;32m--> 661\u001b[0m \u001b[38;5;28;43mself\u001b[39;49m\u001b[38;5;241;43m.\u001b[39;49m\u001b[43m_stream_logs_until_completion\u001b[49m\u001b[43m(\u001b[49m\n\u001b[1;32m    662\u001b[0m \u001b[43m    \u001b[49m\u001b[38;5;28;43mself\u001b[39;49m\u001b[38;5;241;43m.\u001b[39;49m\u001b[43m_runs_operations\u001b[49m\u001b[43m,\u001b[49m\u001b[43m \u001b[49m\u001b[43mjob_object\u001b[49m\u001b[43m,\u001b[49m\u001b[43m \u001b[49m\u001b[38;5;28;43mself\u001b[39;49m\u001b[38;5;241;43m.\u001b[39;49m\u001b[43m_datastore_operations\u001b[49m\u001b[43m,\u001b[49m\u001b[43m \u001b[49m\u001b[43mrequests_pipeline\u001b[49m\u001b[38;5;241;43m=\u001b[39;49m\u001b[38;5;28;43mself\u001b[39;49m\u001b[38;5;241;43m.\u001b[39;49m\u001b[43m_requests_pipeline\u001b[49m\n\u001b[1;32m    663\u001b[0m \u001b[43m\u001b[49m\u001b[43m)\u001b[49m\n",
            "File \u001b[0;32m/anaconda/envs/azureml_py310_sdkv2/lib/python3.10/site-packages/azure/ai/ml/operations/_job_ops_helper.py:312\u001b[0m, in \u001b[0;36mstream_logs_until_completion\u001b[0;34m(run_operations, job_resource, datastore_operations, raise_exception_on_failed_job, requests_pipeline)\u001b[0m\n\u001b[1;32m    310\u001b[0m         file_handle\u001b[38;5;241m.\u001b[39mwrite(\u001b[38;5;124m\"\u001b[39m\u001b[38;5;130;01m\\n\u001b[39;00m\u001b[38;5;124m\"\u001b[39m)\n\u001b[1;32m    311\u001b[0m     \u001b[38;5;28;01melse\u001b[39;00m:\n\u001b[0;32m--> 312\u001b[0m         \u001b[38;5;28;01mraise\u001b[39;00m JobException(\n\u001b[1;32m    313\u001b[0m             message\u001b[38;5;241m=\u001b[39m\u001b[38;5;124m\"\u001b[39m\u001b[38;5;124mException : \u001b[39m\u001b[38;5;130;01m\\n\u001b[39;00m\u001b[38;5;124m \u001b[39m\u001b[38;5;132;01m{}\u001b[39;00m\u001b[38;5;124m \u001b[39m\u001b[38;5;124m\"\u001b[39m\u001b[38;5;241m.\u001b[39mformat(json\u001b[38;5;241m.\u001b[39mdumps(error, indent\u001b[38;5;241m=\u001b[39m\u001b[38;5;241m4\u001b[39m)),\n\u001b[1;32m    314\u001b[0m             target\u001b[38;5;241m=\u001b[39mErrorTarget\u001b[38;5;241m.\u001b[39mJOB,\n\u001b[1;32m    315\u001b[0m             no_personal_data_message\u001b[38;5;241m=\u001b[39m\u001b[38;5;124m\"\u001b[39m\u001b[38;5;124mException raised on failed job.\u001b[39m\u001b[38;5;124m\"\u001b[39m,\n\u001b[1;32m    316\u001b[0m             error_category\u001b[38;5;241m=\u001b[39mErrorCategory\u001b[38;5;241m.\u001b[39mSYSTEM_ERROR,\n\u001b[1;32m    317\u001b[0m         )\n\u001b[1;32m    319\u001b[0m file_handle\u001b[38;5;241m.\u001b[39mwrite(\u001b[38;5;124m\"\u001b[39m\u001b[38;5;130;01m\\n\u001b[39;00m\u001b[38;5;124m\"\u001b[39m)\n\u001b[1;32m    320\u001b[0m file_handle\u001b[38;5;241m.\u001b[39mflush()\n",
            "\u001b[0;31mJobException\u001b[0m: Exception : \n {\n    \"error\": {\n        \"code\": \"UserError\",\n        \"message\": \"Pipeline has failed child jobs. Failed nodes: /preprocess_node. For more details and logs, please go to the job detail page and check the child jobs.\",\n        \"message_format\": \"Pipeline has failed child jobs. {0}\",\n        \"message_parameters\": {},\n        \"reference_code\": \"PipelineHasStepJobFailed\",\n        \"details\": []\n    },\n    \"environment\": \"eastus\",\n    \"location\": \"eastus\",\n    \"time\": \"2023-11-08T21:33:53.788111Z\",\n    \"component_name\": \"\"\n} "
          ]
        }
      ],
      "execution_count": 29,
      "metadata": {
        "jupyter": {
          "source_hidden": false,
          "outputs_hidden": false
        },
        "nteract": {
          "transient": {
            "deleting": false
          }
        },
        "gather": {
          "logged": 1699479242381
        }
      },
      "id": "f668f9b5-1a58-4b70-9c23-02ebf72b2730"
    },
    {
      "cell_type": "code",
      "source": [
        "# Download all the outputs of the job\n",
        "output = ml_client.jobs.download(name=pipeline_job.name, download_path='./pipeline_output', all=True)"
      ],
      "outputs": [],
      "execution_count": null,
      "metadata": {
        "jupyter": {
          "source_hidden": false,
          "outputs_hidden": false
        },
        "nteract": {
          "transient": {
            "deleting": false
          }
        }
      },
      "id": "ea9573ff-0f3d-4805-9e9b-4f93ff282d36"
    }
  ],
  "metadata": {
    "kernelspec": {
      "name": "python310-sdkv2",
      "language": "python",
      "display_name": "Python 3.10 - SDK v2"
    },
    "language_info": {
      "name": "python",
      "version": "3.10.11",
      "mimetype": "text/x-python",
      "codemirror_mode": {
        "name": "ipython",
        "version": 3
      },
      "pygments_lexer": "ipython3",
      "nbconvert_exporter": "python",
      "file_extension": ".py"
    },
    "microsoft": {
      "ms_spell_check": {
        "ms_spell_check_language": "en"
      },
      "host": {
        "AzureML": {
          "notebookHasBeenCompleted": true
        }
      }
    },
    "kernel_info": {
      "name": "python310-sdkv2"
    },
    "nteract": {
      "version": "nteract-front-end@1.0.0"
    }
  },
  "nbformat": 4,
  "nbformat_minor": 5
}