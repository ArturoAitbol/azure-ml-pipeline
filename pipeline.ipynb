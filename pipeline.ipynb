{
  "cells": [
    {
      "cell_type": "code",
      "source": [
        "from azure.ai.ml import load_component\n",
        "from azure.ai.ml.dsl import pipeline\n",
        "from azure.ai.ml import MLClient, Input\n",
        "from azure.identity import DefaultAzureCredential, EnvironmentCredential\n",
        "from azure.ai.ml.entities import AmlCompute\n",
        "\n",
        "import pandas as pd"
      ],
      "outputs": [],
      "execution_count": 9,
      "metadata": {
        "gather": {
          "logged": 1699603752229
        }
      },
      "id": "ccf0c4fd"
    },
    {
      "cell_type": "markdown",
      "source": [
        "Definimos el cluster donde correrá el pipeline"
      ],
      "metadata": {
        "nteract": {
          "transient": {
            "deleting": false
          }
        }
      },
      "id": "d5f355e8-0672-48b8-b0c8-e48d70581190"
    },
    {
      "cell_type": "code",
      "source": [
        "def get_comput_target(ml_client, name=\"cpu-cluster\", family='Standard_E4s_v3'):\n",
        "    cpu_compute_target = name\n",
        "    \n",
        "    try:\n",
        "        # let's see if the compute target already exists\n",
        "        cpu_cluster = ml_client.compute.get(cpu_compute_target)\n",
        "    except Exception:\n",
        "        cpu_cluster = AmlCompute(\n",
        "            name=cpu_compute_target,\n",
        "            type=\"amlcompute\",\n",
        "            size=family,\n",
        "            min_instances=0,\n",
        "            max_instances=4,\n",
        "            idle_time_before_scale_down=180,\n",
        "            tier=\"Dedicated\",\n",
        "        )\n",
        "    \n",
        "        cpu_cluster = ml_client.compute.begin_create_or_update(cpu_cluster).result()"
      ],
      "outputs": [],
      "execution_count": 10,
      "metadata": {
        "jupyter": {
          "source_hidden": false,
          "outputs_hidden": false
        },
        "nteract": {
          "transient": {
            "deleting": false
          }
        },
        "gather": {
          "logged": 1699603753596
        }
      },
      "id": "3099317c-bdb8-483c-b1b2-35dc495db250"
    },
    {
      "cell_type": "code",
      "source": [
        "credential = DefaultAzureCredential()\n",
        "ml_client = MLClient.from_config(credential=credential)"
      ],
      "outputs": [
        {
          "output_type": "stream",
          "name": "stderr",
          "text": "Found the config file in: /config.json\n"
        }
      ],
      "execution_count": 11,
      "metadata": {
        "jupyter": {
          "source_hidden": false,
          "outputs_hidden": false
        },
        "nteract": {
          "transient": {
            "deleting": false
          }
        },
        "gather": {
          "logged": 1699603754822
        }
      },
      "id": "ccf23bd7-5618-4e4c-9777-14b49398798b"
    },
    {
      "cell_type": "code",
      "source": [
        "compute_target = get_comput_target(ml_client)"
      ],
      "outputs": [],
      "execution_count": 12,
      "metadata": {
        "jupyter": {
          "source_hidden": false,
          "outputs_hidden": false
        },
        "nteract": {
          "transient": {
            "deleting": false
          }
        },
        "gather": {
          "logged": 1699603755992
        }
      },
      "id": "a896a571-1910-4c90-bd97-d8c4f8e7b1fd"
    },
    {
      "cell_type": "code",
      "source": [
        "preprocess_component = load_component(source=\"./preprocess-ds-component/preprocess.yml\")\n",
        "split_component = load_component(source=\"./split-component/split.yml\")\n",
        "train_logistic_component = load_component(source=\"./train-logistic-component/train_logistic.yml\")\n",
        "train_tree_component = load_component(source=\"./train-tree-component/train_tree.yml\")\n",
        "eval_component = load_component(source=\"./eval-model-component/eval.yml\")"
      ],
      "outputs": [],
      "execution_count": 16,
      "metadata": {
        "jupyter": {
          "source_hidden": false,
          "outputs_hidden": false
        },
        "nteract": {
          "transient": {
            "deleting": false
          }
        },
        "gather": {
          "logged": 1699603933193
        }
      },
      "id": "087d34e4-00bc-44af-a77c-0fb55e4fd5ef"
    },
    {
      "cell_type": "code",
      "source": [
        "@pipeline(\n",
        "    default_compute='cpu-cluster',\n",
        ")\n",
        "def water_potability_pipeline(pipeline_input_data):\n",
        "    preprocess_node = preprocess_component(\n",
        "        dataset=pipeline_input_data,\n",
        "        plot_style='dark'\n",
        "    )\n",
        "\n",
        "    split_node = split_component(\n",
        "        dataset=preprocess_node.outputs.dataset_cleaned,\n",
        "        test_size=0.2\n",
        "    )\n",
        "\n",
        "    train_node_logistic = train_logistic_component(\n",
        "        X_train=split_node.outputs.X_train,\n",
        "        y_train=split_node.outputs.y_train\n",
        "    )\n",
        "\n",
        "    train_node_tree = train_tree_component(\n",
        "        X_train=split_node.outputs.X_train,\n",
        "        y_train=split_node.outputs.y_train,\n",
        "        criterion='entropy',\n",
        "        min_samples_split = 3,\n",
        "        max_depth=4\n",
        "    )\n",
        "    \n",
        "    eval_node_logistic = eval_component(\n",
        "        model_folder=train_node_logistic.outputs.model_folder,\n",
        "        X_test=split_node.outputs.X_test,\n",
        "        y_test=split_node.outputs.y_test\n",
        "    )\n",
        "\n",
        "    eval_node_tree = eval_component(\n",
        "        model_folder=train_node_tree.outputs.model_folder,\n",
        "        X_test=split_node.outputs.X_test,\n",
        "        y_test=split_node.outputs.y_test\n",
        "    )\n",
        "\n",
        "    return {\n",
        "        \"pair_plot_output\": preprocess_node.outputs.pair_plot_folder,\n",
        "        \"logistic_model_output\": train_node_logistic.outputs.model_folder,\n",
        "        \"tree_model_output\": train_node_tree.outputs.model_folder,\n",
        "        \"logistic_report\": eval_node_logistic.outputs.report_folder,\n",
        "        \"tree_report\": eval_node_tree.outputs.report_folder\n",
        "    }\n",
        "\n",
        "\n",
        "# create a pipeline\n",
        "water_potability_ds =  Input(\n",
        "            type=\"uri_file\",\n",
        "            path=\"azureml://subscriptions/d4e39a00-586b-4eea-9d7a-5c200a16ba64/resourcegroups/pipeline/workspaces/project-2-pipeline/datastores/workspaceblobstore/paths/UI/2023-11-08_204801_UTC/water_potability_ds.csv\",\n",
        "        )\n",
        "\n",
        "pipeline_job = water_potability_pipeline(pipeline_input_data=water_potability_ds)\n"
      ],
      "outputs": [],
      "execution_count": 17,
      "metadata": {
        "jupyter": {
          "source_hidden": false,
          "outputs_hidden": false
        },
        "nteract": {
          "transient": {
            "deleting": false
          }
        },
        "gather": {
          "logged": 1699603934204
        }
      },
      "id": "14ccde6e-7f7a-44cc-b948-ea910c41dd26"
    },
    {
      "cell_type": "code",
      "source": [
        "pipeline_job = ml_client.jobs.create_or_update(\n",
        "    pipeline_job, experiment_name=\"project_pipeline_water\"\n",
        ")\n",
        "pipeline_job"
      ],
      "outputs": [
        {
          "output_type": "stream",
          "name": "stderr",
          "text": "\r\u001b[32mUploading preprocess_src (0.0 MBs):   0%|          | 0/1763 [00:00<?, ?it/s]\r\u001b[32mUploading preprocess_src (0.0 MBs): 100%|██████████| 1763/1763 [00:00<00:00, 175068.85it/s]\n\u001b[39m\n\n"
        },
        {
          "output_type": "execute_result",
          "execution_count": 18,
          "data": {
            "text/plain": "PipelineJob({'inputs': {'pipeline_input_data': <azure.ai.ml.entities._job.pipeline._io.base.PipelineInput object at 0x7f16b32d20b0>}, 'outputs': {'pair_plot_output': <azure.ai.ml.entities._job.pipeline._io.base.PipelineOutput object at 0x7f16b32d2080>, 'logistic_model_output': <azure.ai.ml.entities._job.pipeline._io.base.PipelineOutput object at 0x7f16b32d2110>, 'tree_model_output': <azure.ai.ml.entities._job.pipeline._io.base.PipelineOutput object at 0x7f16b32d2140>, 'logistic_report': <azure.ai.ml.entities._job.pipeline._io.base.PipelineOutput object at 0x7f16b32d2170>, 'tree_report': <azure.ai.ml.entities._job.pipeline._io.base.PipelineOutput object at 0x7f16b32d21a0>}, 'jobs': {}, 'component': PipelineComponent({'intellectual_property': None, 'auto_increment_version': False, 'source': 'REMOTE.WORKSPACE.JOB', 'is_anonymous': True, 'auto_delete_setting': None, 'name': 'azureml_anonymous', 'description': None, 'tags': {}, 'properties': {}, 'print_as_yaml': True, 'id': None, 'Resource__source_path': None, 'base_path': '/mnt/batch/tasks/shared/LS_root/mounts/clusters/notebook-instance/code/Users/art_ag', 'creation_context': None, 'serialize': <msrest.serialization.Serializer object at 0x7f16b32d1e10>, 'version': '1', 'latest_version': None, 'schema': None, 'type': 'pipeline', 'display_name': 'water_potability_pipeline', 'is_deterministic': None, 'inputs': {'pipeline_input_data': {}}, 'outputs': {'pair_plot_output': {}, 'logistic_model_output': {}, 'tree_model_output': {}, 'logistic_report': {}, 'tree_report': {}}, 'yaml_str': None, 'other_parameter': {}, 'jobs': {'preprocess_node': Command({'parameters': {}, 'init': False, 'name': 'preprocess_node', 'type': 'command', 'status': None, 'log_files': None, 'description': None, 'tags': {}, 'properties': {}, 'print_as_yaml': True, 'id': None, 'Resource__source_path': None, 'base_path': '/mnt/batch/tasks/shared/LS_root/mounts/clusters/notebook-instance/code/Users/art_ag', 'creation_context': None, 'serialize': <msrest.serialization.Serializer object at 0x7f16b32d1600>, 'allowed_keys': {}, 'key_restriction': False, 'logger': <Logger attr_dict (WARNING)>, 'display_name': None, 'experiment_name': None, 'compute': None, 'services': None, 'comment': None, 'job_inputs': {'plot_style': 'dark', 'dataset': '${{parent.inputs.pipeline_input_data}}'}, 'job_outputs': {'pair_plot_folder': '${{parent.outputs.pair_plot_output}}'}, 'inputs': {'plot_style': <azure.ai.ml.entities._job.pipeline._io.base.NodeInput object at 0x7f16b32d1390>, 'dataset': <azure.ai.ml.entities._job.pipeline._io.base.NodeInput object at 0x7f16b32d13f0>}, 'outputs': {'pair_plot_folder': <azure.ai.ml.entities._job.pipeline._io.base.NodeOutput object at 0x7f16b32d1300>}, 'component': 'azureml_anonymous:56c03736-1c04-4b35-8c54-0d23ef92249b', 'referenced_control_flow_node_instance_id': None, 'kwargs': {'services': None}, 'instance_id': '9985f45c-4d81-4fac-963f-56b63a4a8e8c', 'source': 'REMOTE.WORKSPACE.COMPONENT', 'validate_required_input_not_provided': True, 'limits': None, 'identity': None, 'distribution': None, 'environment_variables': {}, 'environment': None, 'resources': None, 'queue_settings': None, 'swept': False}), 'split_node': Command({'parameters': {}, 'init': False, 'name': 'split_node', 'type': 'command', 'status': None, 'log_files': None, 'description': None, 'tags': {}, 'properties': {}, 'print_as_yaml': True, 'id': None, 'Resource__source_path': None, 'base_path': '/mnt/batch/tasks/shared/LS_root/mounts/clusters/notebook-instance/code/Users/art_ag', 'creation_context': None, 'serialize': <msrest.serialization.Serializer object at 0x7f16b32d16f0>, 'allowed_keys': {}, 'key_restriction': False, 'logger': <Logger attr_dict (WARNING)>, 'display_name': None, 'experiment_name': None, 'compute': None, 'services': None, 'comment': None, 'job_inputs': {'test_size': '0.2', 'dataset': '${{parent.jobs.preprocess_node.outputs.dataset_cleaned}}'}, 'job_outputs': {}, 'inputs': {'test_size': <azure.ai.ml.entities._job.pipeline._io.base.NodeInput object at 0x7f16b32d15d0>, 'dataset': <azure.ai.ml.entities._job.pipeline._io.base.NodeInput object at 0x7f16b32d1210>}, 'outputs': {}, 'component': 'azureml_anonymous:45e72d4f-a6d5-44ec-9ee5-2b9a7e0d66ce', 'referenced_control_flow_node_instance_id': None, 'kwargs': {'services': None}, 'instance_id': '6475bb32-ac74-4f95-b4f6-8a0ea0e5c380', 'source': 'REMOTE.WORKSPACE.COMPONENT', 'validate_required_input_not_provided': True, 'limits': None, 'identity': None, 'distribution': None, 'environment_variables': {}, 'environment': None, 'resources': None, 'queue_settings': None, 'swept': False}), 'train_node_logistic': Command({'parameters': {}, 'init': False, 'name': 'train_node_logistic', 'type': 'command', 'status': None, 'log_files': None, 'description': None, 'tags': {}, 'properties': {}, 'print_as_yaml': True, 'id': None, 'Resource__source_path': None, 'base_path': '/mnt/batch/tasks/shared/LS_root/mounts/clusters/notebook-instance/code/Users/art_ag', 'creation_context': None, 'serialize': <msrest.serialization.Serializer object at 0x7f16b32d12a0>, 'allowed_keys': {}, 'key_restriction': False, 'logger': <Logger attr_dict (WARNING)>, 'display_name': None, 'experiment_name': None, 'compute': None, 'services': None, 'comment': None, 'job_inputs': {'X_train': '${{parent.jobs.split_node.outputs.X_train}}', 'y_train': '${{parent.jobs.split_node.outputs.y_train}}'}, 'job_outputs': {'model_folder': '${{parent.outputs.logistic_model_output}}'}, 'inputs': {'X_train': <azure.ai.ml.entities._job.pipeline._io.base.NodeInput object at 0x7f16b32d1660>, 'y_train': <azure.ai.ml.entities._job.pipeline._io.base.NodeInput object at 0x7f16b32d1570>}, 'outputs': {'model_folder': <azure.ai.ml.entities._job.pipeline._io.base.NodeOutput object at 0x7f16b32d1510>}, 'component': 'azureml_anonymous:93b4fafd-6868-4ed6-98f1-25f44d654e67', 'referenced_control_flow_node_instance_id': None, 'kwargs': {'services': None}, 'instance_id': 'a637b1b6-8453-4308-ad9f-81cc8b5b474e', 'source': 'REMOTE.WORKSPACE.COMPONENT', 'validate_required_input_not_provided': True, 'limits': None, 'identity': None, 'distribution': None, 'environment_variables': {}, 'environment': None, 'resources': None, 'queue_settings': None, 'swept': False}), 'train_node_tree': Command({'parameters': {}, 'init': False, 'name': 'train_node_tree', 'type': 'command', 'status': None, 'log_files': None, 'description': None, 'tags': {}, 'properties': {}, 'print_as_yaml': True, 'id': None, 'Resource__source_path': None, 'base_path': '/mnt/batch/tasks/shared/LS_root/mounts/clusters/notebook-instance/code/Users/art_ag', 'creation_context': None, 'serialize': <msrest.serialization.Serializer object at 0x7f16b32d1c00>, 'allowed_keys': {}, 'key_restriction': False, 'logger': <Logger attr_dict (WARNING)>, 'display_name': None, 'experiment_name': None, 'compute': None, 'services': None, 'comment': None, 'job_inputs': {'criterion': 'entropy', 'min_samples_split': '3', 'max_depth': '4', 'X_train': '${{parent.jobs.split_node.outputs.X_train}}', 'y_train': '${{parent.jobs.split_node.outputs.y_train}}'}, 'job_outputs': {'model_folder': '${{parent.outputs.tree_model_output}}'}, 'inputs': {'criterion': <azure.ai.ml.entities._job.pipeline._io.base.NodeInput object at 0x7f16b32d1b40>, 'min_samples_split': <azure.ai.ml.entities._job.pipeline._io.base.NodeInput object at 0x7f16b32d1a50>, 'max_depth': <azure.ai.ml.entities._job.pipeline._io.base.NodeInput object at 0x7f16b32d1a80>, 'X_train': <azure.ai.ml.entities._job.pipeline._io.base.NodeInput object at 0x7f16b32d1960>, 'y_train': <azure.ai.ml.entities._job.pipeline._io.base.NodeInput object at 0x7f16b32d1ab0>}, 'outputs': {'model_folder': <azure.ai.ml.entities._job.pipeline._io.base.NodeOutput object at 0x7f16b32d1bd0>}, 'component': 'azureml_anonymous:59ab0ec6-eda7-4195-9ed9-60f7c1500291', 'referenced_control_flow_node_instance_id': None, 'kwargs': {'services': None}, 'instance_id': '4e42d2a4-f30e-4564-af5e-231a0619e0ec', 'source': 'REMOTE.WORKSPACE.COMPONENT', 'validate_required_input_not_provided': True, 'limits': None, 'identity': None, 'distribution': None, 'environment_variables': {}, 'environment': None, 'resources': None, 'queue_settings': None, 'swept': False}), 'eval_node_logistic': Command({'parameters': {}, 'init': False, 'name': 'eval_node_logistic', 'type': 'command', 'status': None, 'log_files': None, 'description': None, 'tags': {}, 'properties': {}, 'print_as_yaml': True, 'id': None, 'Resource__source_path': None, 'base_path': '/mnt/batch/tasks/shared/LS_root/mounts/clusters/notebook-instance/code/Users/art_ag', 'creation_context': None, 'serialize': <msrest.serialization.Serializer object at 0x7f16b32d1b70>, 'allowed_keys': {}, 'key_restriction': False, 'logger': <Logger attr_dict (WARNING)>, 'display_name': None, 'experiment_name': None, 'compute': None, 'services': None, 'comment': None, 'job_inputs': {'model_folder': '${{parent.jobs.train_node_logistic.outputs.model_folder}}', 'X_test': '${{parent.jobs.split_node.outputs.X_test}}', 'y_test': '${{parent.jobs.split_node.outputs.y_test}}'}, 'job_outputs': {'report_folder': '${{parent.outputs.logistic_report}}'}, 'inputs': {'model_folder': <azure.ai.ml.entities._job.pipeline._io.base.NodeInput object at 0x7f16b32d1c30>, 'X_test': <azure.ai.ml.entities._job.pipeline._io.base.NodeInput object at 0x7f16b32d1c60>, 'y_test': <azure.ai.ml.entities._job.pipeline._io.base.NodeInput object at 0x7f16b32d1c90>}, 'outputs': {'report_folder': <azure.ai.ml.entities._job.pipeline._io.base.NodeOutput object at 0x7f16b32d19c0>}, 'component': 'azureml_anonymous:2581770d-aca4-4402-8e36-63dfeaea9d18', 'referenced_control_flow_node_instance_id': None, 'kwargs': {'services': None}, 'instance_id': 'a92dd971-8c42-46d8-b599-c2af910a5595', 'source': 'REMOTE.WORKSPACE.COMPONENT', 'validate_required_input_not_provided': True, 'limits': None, 'identity': None, 'distribution': None, 'environment_variables': {}, 'environment': None, 'resources': None, 'queue_settings': None, 'swept': False}), 'eval_node_tree': Command({'parameters': {}, 'init': False, 'name': 'eval_node_tree', 'type': 'command', 'status': None, 'log_files': None, 'description': None, 'tags': {}, 'properties': {}, 'print_as_yaml': True, 'id': None, 'Resource__source_path': None, 'base_path': '/mnt/batch/tasks/shared/LS_root/mounts/clusters/notebook-instance/code/Users/art_ag', 'creation_context': None, 'serialize': <msrest.serialization.Serializer object at 0x7f16b32d1cf0>, 'allowed_keys': {}, 'key_restriction': False, 'logger': <Logger attr_dict (WARNING)>, 'display_name': None, 'experiment_name': None, 'compute': None, 'services': None, 'comment': None, 'job_inputs': {'model_folder': '${{parent.jobs.train_node_tree.outputs.model_folder}}', 'X_test': '${{parent.jobs.split_node.outputs.X_test}}', 'y_test': '${{parent.jobs.split_node.outputs.y_test}}'}, 'job_outputs': {'report_folder': '${{parent.outputs.tree_report}}'}, 'inputs': {'model_folder': <azure.ai.ml.entities._job.pipeline._io.base.NodeInput object at 0x7f16b32d1d50>, 'X_test': <azure.ai.ml.entities._job.pipeline._io.base.NodeInput object at 0x7f16b32d1d80>, 'y_test': <azure.ai.ml.entities._job.pipeline._io.base.NodeInput object at 0x7f16b32d1db0>}, 'outputs': {'report_folder': <azure.ai.ml.entities._job.pipeline._io.base.NodeOutput object at 0x7f16b32d1d20>}, 'component': 'azureml_anonymous:2581770d-aca4-4402-8e36-63dfeaea9d18', 'referenced_control_flow_node_instance_id': None, 'kwargs': {'services': None}, 'instance_id': '32649883-2eaf-4f26-b7fa-de72a7faca6d', 'source': 'REMOTE.WORKSPACE.COMPONENT', 'validate_required_input_not_provided': True, 'limits': None, 'identity': None, 'distribution': None, 'environment_variables': {}, 'environment': None, 'resources': None, 'queue_settings': None, 'swept': False})}, 'job_types': {'command': 6}, 'job_sources': {'REMOTE.WORKSPACE.COMPONENT': 6}, 'source_job_id': None}), 'type': 'pipeline', 'status': 'Preparing', 'log_files': None, 'name': 'wheat_sponge_npy4v0twsg', 'description': None, 'tags': {}, 'properties': {'azureml.DevPlatv2': 'true', 'azureml.DatasetAccessMode': 'Asset', 'azureml.runsource': 'azureml.PipelineRun', 'runSource': 'MFE', 'runType': 'HTTP', 'azureml.parameters': '{}', 'azureml.continue_on_step_failure': 'True', 'azureml.continue_on_failed_optional_input': 'True', 'azureml.enforceRerun': 'False', 'azureml.defaultComputeName': 'cpu-cluster', 'azureml.defaultDataStoreName': 'workspaceblobstore', 'azureml.pipelineComponent': 'pipelinerun'}, 'print_as_yaml': True, 'id': '/subscriptions/d4e39a00-586b-4eea-9d7a-5c200a16ba64/resourceGroups/pipeline/providers/Microsoft.MachineLearningServices/workspaces/project-2-pipeline/jobs/wheat_sponge_npy4v0twsg', 'Resource__source_path': None, 'base_path': '/mnt/batch/tasks/shared/LS_root/mounts/clusters/notebook-instance/code/Users/art_ag', 'creation_context': <azure.ai.ml.entities._system_data.SystemData object at 0x7f16b32d1fc0>, 'serialize': <msrest.serialization.Serializer object at 0x7f16b32d21d0>, 'display_name': 'water_potability_pipeline', 'experiment_name': 'project_pipeline_water', 'compute': None, 'services': {'Tracking': {'endpoint': 'azureml://eastus.api.azureml.ms/mlflow/v1.0/subscriptions/d4e39a00-586b-4eea-9d7a-5c200a16ba64/resourceGroups/pipeline/providers/Microsoft.MachineLearningServices/workspaces/project-2-pipeline?', 'type': 'Tracking'}, 'Studio': {'endpoint': 'https://ml.azure.com/runs/wheat_sponge_npy4v0twsg?wsid=/subscriptions/d4e39a00-586b-4eea-9d7a-5c200a16ba64/resourcegroups/pipeline/workspaces/project-2-pipeline&tid=acce7fd1-5d4a-48b3-ab29-58f5f65fc259', 'type': 'Studio'}}, 'settings': {}, 'identity': None, 'default_code': None, 'default_environment': None})",
            "text/html": "<table style=\"width:100%\"><tr><th>Experiment</th><th>Name</th><th>Type</th><th>Status</th><th>Details Page</th></tr><tr><td>project_pipeline_water</td><td>wheat_sponge_npy4v0twsg</td><td>pipeline</td><td>Preparing</td><td><a href=\"https://ml.azure.com/runs/wheat_sponge_npy4v0twsg?wsid=/subscriptions/d4e39a00-586b-4eea-9d7a-5c200a16ba64/resourcegroups/pipeline/workspaces/project-2-pipeline&amp;tid=acce7fd1-5d4a-48b3-ab29-58f5f65fc259\" target=\"_blank\" rel=\"noopener\">Link to Azure Machine Learning studio</a></td></tr></table>"
          },
          "metadata": {}
        }
      ],
      "execution_count": 18,
      "metadata": {
        "jupyter": {
          "source_hidden": false,
          "outputs_hidden": false
        },
        "nteract": {
          "transient": {
            "deleting": false
          }
        },
        "gather": {
          "logged": 1699603958870
        }
      },
      "id": "18cee03b-c8c5-45f7-b859-5eceaeb8af25"
    },
    {
      "cell_type": "code",
      "source": [
        "# wait until the job completes\n",
        "ml_client.jobs.stream(pipeline_job.name)\n"
      ],
      "outputs": [
        {
          "output_type": "stream",
          "name": "stdout",
          "text": "RunId: wheat_sponge_npy4v0twsg\nWeb View: https://ml.azure.com/runs/wheat_sponge_npy4v0twsg?wsid=/subscriptions/d4e39a00-586b-4eea-9d7a-5c200a16ba64/resourcegroups/pipeline/workspaces/project-2-pipeline\n\nStreaming logs/azureml/executionlogs.txt\n========================================\n\n[2023-11-10 08:12:40Z] Submitting 1 runs, first five are: 2ecc2c54:45c6f5bc-cab3-464a-9544-dd92dca722b8\n[2023-11-10 08:13:36Z] Completing processing run id 45c6f5bc-cab3-464a-9544-dd92dca722b8.\n[2023-11-10 08:13:37Z] Submitting 1 runs, first five are: bfed7293:35f87f28-c282-4144-a278-4bf4e8042325\n[2023-11-10 08:14:13Z] Completing processing run id 35f87f28-c282-4144-a278-4bf4e8042325.\n[2023-11-10 08:14:17Z] Submitting 2 runs, first five are: 6dd9fcea:48cb4832-a01b-4405-9004-f76e90c50f5d,73e280da:4de150b5-5bb7-488e-9251-bd6be530fecf\n[2023-11-10 08:14:59Z] Completing processing run id 48cb4832-a01b-4405-9004-f76e90c50f5d.\n[2023-11-10 08:15:00Z] Submitting 1 runs, first five are: c67bba5b:4f71b0d3-4c75-4068-aaa0-d3260159a7d7\n[2023-11-10 08:15:30Z] Completing processing run id 4de150b5-5bb7-488e-9251-bd6be530fecf.\n[2023-11-10 08:15:30Z] Submitting 1 runs, first five are: 7ce951a1:0d88de92-1bd6-45bf-a7e7-20b096bcf670\n[2023-11-10 08:15:59Z] Completing processing run id 4f71b0d3-4c75-4068-aaa0-d3260159a7d7.\n[2023-11-10 08:16:31Z] Completing processing run id 0d88de92-1bd6-45bf-a7e7-20b096bcf670.\n\nExecution Summary\n=================\nRunId: wheat_sponge_npy4v0twsg\nWeb View: https://ml.azure.com/runs/wheat_sponge_npy4v0twsg?wsid=/subscriptions/d4e39a00-586b-4eea-9d7a-5c200a16ba64/resourcegroups/pipeline/workspaces/project-2-pipeline\n\n"
        }
      ],
      "execution_count": 19,
      "metadata": {
        "jupyter": {
          "source_hidden": false,
          "outputs_hidden": false
        },
        "nteract": {
          "transient": {
            "deleting": false
          }
        },
        "gather": {
          "logged": 1699604202730
        }
      },
      "id": "f668f9b5-1a58-4b70-9c23-02ebf72b2730"
    },
    {
      "cell_type": "code",
      "source": [
        "# Download all the outputs of the job\n",
        "output = ml_client.jobs.download(name=pipeline_job.name, download_path='./pipeline_output', all=True)"
      ],
      "outputs": [
        {
          "output_type": "stream",
          "name": "stderr",
          "text": "Downloading artifact azureml://subscriptions/d4e39a00-586b-4eea-9d7a-5c200a16ba64/resourcegroups/pipeline/workspaces/project-2-pipeline/datastores/workspaceblobstore/paths/azureml/45c6f5bc-cab3-464a-9544-dd92dca722b8/pair_plot_folder/ to pipeline_output/named-outputs/pair_plot_output\nDownloading artifact azureml://subscriptions/d4e39a00-586b-4eea-9d7a-5c200a16ba64/resourcegroups/pipeline/workspaces/project-2-pipeline/datastores/workspaceblobstore/paths/azureml/48cb4832-a01b-4405-9004-f76e90c50f5d/model_folder/ to pipeline_output/named-outputs/logistic_model_output\nDownloading artifact azureml://subscriptions/d4e39a00-586b-4eea-9d7a-5c200a16ba64/resourcegroups/pipeline/workspaces/project-2-pipeline/datastores/workspaceblobstore/paths/azureml/4de150b5-5bb7-488e-9251-bd6be530fecf/model_folder/ to pipeline_output/named-outputs/tree_model_output\nDownloading artifact azureml://subscriptions/d4e39a00-586b-4eea-9d7a-5c200a16ba64/resourcegroups/pipeline/workspaces/project-2-pipeline/datastores/workspaceblobstore/paths/azureml/4f71b0d3-4c75-4068-aaa0-d3260159a7d7/report_folder/ to pipeline_output/named-outputs/logistic_report\nDownloading artifact azureml://subscriptions/d4e39a00-586b-4eea-9d7a-5c200a16ba64/resourcegroups/pipeline/workspaces/project-2-pipeline/datastores/workspaceblobstore/paths/azureml/0d88de92-1bd6-45bf-a7e7-20b096bcf670/report_folder/ to pipeline_output/named-outputs/tree_report\nDownloading artifact azureml://datastores/workspaceartifactstore/paths/ExperimentRun/dcid.wheat_sponge_npy4v0twsg/ to pipeline_output/artifacts\n"
        }
      ],
      "execution_count": 20,
      "metadata": {
        "jupyter": {
          "source_hidden": false,
          "outputs_hidden": false
        },
        "nteract": {
          "transient": {
            "deleting": false
          }
        },
        "gather": {
          "logged": 1699604322988
        }
      },
      "id": "ea9573ff-0f3d-4805-9e9b-4f93ff282d36"
    }
  ],
  "metadata": {
    "kernelspec": {
      "name": "python310-sdkv2",
      "language": "python",
      "display_name": "Python 3.10 - SDK v2"
    },
    "language_info": {
      "name": "python",
      "version": "3.10.11",
      "mimetype": "text/x-python",
      "codemirror_mode": {
        "name": "ipython",
        "version": 3
      },
      "pygments_lexer": "ipython3",
      "nbconvert_exporter": "python",
      "file_extension": ".py"
    },
    "microsoft": {
      "ms_spell_check": {
        "ms_spell_check_language": "en"
      },
      "host": {
        "AzureML": {
          "notebookHasBeenCompleted": true
        }
      }
    },
    "kernel_info": {
      "name": "python310-sdkv2"
    },
    "nteract": {
      "version": "nteract-front-end@1.0.0"
    }
  },
  "nbformat": 4,
  "nbformat_minor": 5
}